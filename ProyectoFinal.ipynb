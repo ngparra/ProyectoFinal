{
 "cells": [
  {
   "cell_type": "markdown",
   "metadata": {},
   "source": [
    "# Ara Macao y Ara Ambiguus: Costa Rica"
   ]
  },
  {
   "cell_type": "code",
   "execution_count": 35,
   "metadata": {},
   "outputs": [
    {
     "name": "stdout",
     "output_type": "stream",
     "text": [
      "Requirement already satisfied: streamlit-folium in c:\\users\\nparra\\appdata\\local\\miniconda3\\envs\\geopython\\lib\\site-packages (0.23.2)\n",
      "Requirement already satisfied: streamlit>=1.13.0 in c:\\users\\nparra\\appdata\\local\\miniconda3\\envs\\geopython\\lib\\site-packages (from streamlit-folium) (1.40.2)\n",
      "Requirement already satisfied: folium!=0.15.0,>=0.13 in c:\\users\\nparra\\appdata\\local\\miniconda3\\envs\\geopython\\lib\\site-packages (from streamlit-folium) (0.18.0)\n",
      "Requirement already satisfied: jinja2 in c:\\users\\nparra\\appdata\\local\\miniconda3\\envs\\geopython\\lib\\site-packages (from streamlit-folium) (3.1.4)\n",
      "Requirement already satisfied: branca in c:\\users\\nparra\\appdata\\local\\miniconda3\\envs\\geopython\\lib\\site-packages (from streamlit-folium) (0.7.2)\n",
      "Requirement already satisfied: numpy in c:\\users\\nparra\\appdata\\local\\miniconda3\\envs\\geopython\\lib\\site-packages (from folium!=0.15.0,>=0.13->streamlit-folium) (1.26.4)\n",
      "Requirement already satisfied: requests in c:\\users\\nparra\\appdata\\local\\miniconda3\\envs\\geopython\\lib\\site-packages (from folium!=0.15.0,>=0.13->streamlit-folium) (2.32.3)\n",
      "Requirement already satisfied: xyzservices in c:\\users\\nparra\\appdata\\local\\miniconda3\\envs\\geopython\\lib\\site-packages (from folium!=0.15.0,>=0.13->streamlit-folium) (2024.9.0)\n",
      "Requirement already satisfied: MarkupSafe>=2.0 in c:\\users\\nparra\\appdata\\local\\miniconda3\\envs\\geopython\\lib\\site-packages (from jinja2->streamlit-folium) (3.0.2)\n",
      "Requirement already satisfied: altair<6,>=4.0 in c:\\users\\nparra\\appdata\\local\\miniconda3\\envs\\geopython\\lib\\site-packages (from streamlit>=1.13.0->streamlit-folium) (5.5.0)\n",
      "Requirement already satisfied: blinker<2,>=1.0.0 in c:\\users\\nparra\\appdata\\local\\miniconda3\\envs\\geopython\\lib\\site-packages (from streamlit>=1.13.0->streamlit-folium) (1.9.0)\n",
      "Requirement already satisfied: cachetools<6,>=4.0 in c:\\users\\nparra\\appdata\\local\\miniconda3\\envs\\geopython\\lib\\site-packages (from streamlit>=1.13.0->streamlit-folium) (5.5.0)\n",
      "Requirement already satisfied: click<9,>=7.0 in c:\\users\\nparra\\appdata\\local\\miniconda3\\envs\\geopython\\lib\\site-packages (from streamlit>=1.13.0->streamlit-folium) (8.1.7)\n",
      "Requirement already satisfied: packaging<25,>=20 in c:\\users\\nparra\\appdata\\local\\miniconda3\\envs\\geopython\\lib\\site-packages (from streamlit>=1.13.0->streamlit-folium) (24.2)\n",
      "Requirement already satisfied: pandas<3,>=1.4.0 in c:\\users\\nparra\\appdata\\local\\miniconda3\\envs\\geopython\\lib\\site-packages (from streamlit>=1.13.0->streamlit-folium) (2.2.3)\n",
      "Requirement already satisfied: pillow<12,>=7.1.0 in c:\\users\\nparra\\appdata\\local\\miniconda3\\envs\\geopython\\lib\\site-packages (from streamlit>=1.13.0->streamlit-folium) (11.0.0)\n",
      "Requirement already satisfied: protobuf<6,>=3.20 in c:\\users\\nparra\\appdata\\local\\miniconda3\\envs\\geopython\\lib\\site-packages (from streamlit>=1.13.0->streamlit-folium) (5.28.2)\n",
      "Requirement already satisfied: pyarrow>=7.0 in c:\\users\\nparra\\appdata\\local\\miniconda3\\envs\\geopython\\lib\\site-packages (from streamlit>=1.13.0->streamlit-folium) (18.1.0)\n",
      "Requirement already satisfied: rich<14,>=10.14.0 in c:\\users\\nparra\\appdata\\local\\miniconda3\\envs\\geopython\\lib\\site-packages (from streamlit>=1.13.0->streamlit-folium) (13.9.4)\n",
      "Requirement already satisfied: tenacity<10,>=8.1.0 in c:\\users\\nparra\\appdata\\local\\miniconda3\\envs\\geopython\\lib\\site-packages (from streamlit>=1.13.0->streamlit-folium) (9.0.0)\n",
      "Requirement already satisfied: toml<2,>=0.10.1 in c:\\users\\nparra\\appdata\\local\\miniconda3\\envs\\geopython\\lib\\site-packages (from streamlit>=1.13.0->streamlit-folium) (0.10.2)\n",
      "Requirement already satisfied: typing-extensions<5,>=4.3.0 in c:\\users\\nparra\\appdata\\local\\miniconda3\\envs\\geopython\\lib\\site-packages (from streamlit>=1.13.0->streamlit-folium) (4.12.2)\n",
      "Requirement already satisfied: watchdog<7,>=2.1.5 in c:\\users\\nparra\\appdata\\local\\miniconda3\\envs\\geopython\\lib\\site-packages (from streamlit>=1.13.0->streamlit-folium) (6.0.0)\n",
      "Requirement already satisfied: gitpython!=3.1.19,<4,>=3.0.7 in c:\\users\\nparra\\appdata\\local\\miniconda3\\envs\\geopython\\lib\\site-packages (from streamlit>=1.13.0->streamlit-folium) (3.1.43)\n",
      "Requirement already satisfied: pydeck<1,>=0.8.0b4 in c:\\users\\nparra\\appdata\\local\\miniconda3\\envs\\geopython\\lib\\site-packages (from streamlit>=1.13.0->streamlit-folium) (0.8.0b4)\n",
      "Requirement already satisfied: tornado<7,>=6.0.3 in c:\\users\\nparra\\appdata\\local\\miniconda3\\envs\\geopython\\lib\\site-packages (from streamlit>=1.13.0->streamlit-folium) (6.4.2)\n",
      "Requirement already satisfied: jsonschema>=3.0 in c:\\users\\nparra\\appdata\\local\\miniconda3\\envs\\geopython\\lib\\site-packages (from altair<6,>=4.0->streamlit>=1.13.0->streamlit-folium) (4.17.3)\n",
      "Requirement already satisfied: narwhals>=1.14.2 in c:\\users\\nparra\\appdata\\local\\miniconda3\\envs\\geopython\\lib\\site-packages (from altair<6,>=4.0->streamlit>=1.13.0->streamlit-folium) (1.15.1)\n",
      "Requirement already satisfied: colorama in c:\\users\\nparra\\appdata\\local\\miniconda3\\envs\\geopython\\lib\\site-packages (from click<9,>=7.0->streamlit>=1.13.0->streamlit-folium) (0.4.6)\n",
      "Requirement already satisfied: gitdb<5,>=4.0.1 in c:\\users\\nparra\\appdata\\local\\miniconda3\\envs\\geopython\\lib\\site-packages (from gitpython!=3.1.19,<4,>=3.0.7->streamlit>=1.13.0->streamlit-folium) (4.0.11)\n",
      "Requirement already satisfied: python-dateutil>=2.8.2 in c:\\users\\nparra\\appdata\\local\\miniconda3\\envs\\geopython\\lib\\site-packages (from pandas<3,>=1.4.0->streamlit>=1.13.0->streamlit-folium) (2.9.0.post0)\n",
      "Requirement already satisfied: pytz>=2020.1 in c:\\users\\nparra\\appdata\\local\\miniconda3\\envs\\geopython\\lib\\site-packages (from pandas<3,>=1.4.0->streamlit>=1.13.0->streamlit-folium) (2024.1)\n",
      "Requirement already satisfied: tzdata>=2022.7 in c:\\users\\nparra\\appdata\\local\\miniconda3\\envs\\geopython\\lib\\site-packages (from pandas<3,>=1.4.0->streamlit>=1.13.0->streamlit-folium) (2024.2)\n",
      "Requirement already satisfied: charset_normalizer<4,>=2 in c:\\users\\nparra\\appdata\\local\\miniconda3\\envs\\geopython\\lib\\site-packages (from requests->folium!=0.15.0,>=0.13->streamlit-folium) (3.4.0)\n",
      "Requirement already satisfied: idna<4,>=2.5 in c:\\users\\nparra\\appdata\\local\\miniconda3\\envs\\geopython\\lib\\site-packages (from requests->folium!=0.15.0,>=0.13->streamlit-folium) (3.10)\n",
      "Requirement already satisfied: urllib3<3,>=1.21.1 in c:\\users\\nparra\\appdata\\local\\miniconda3\\envs\\geopython\\lib\\site-packages (from requests->folium!=0.15.0,>=0.13->streamlit-folium) (2.2.3)\n",
      "Requirement already satisfied: certifi>=2017.4.17 in c:\\users\\nparra\\appdata\\local\\miniconda3\\envs\\geopython\\lib\\site-packages (from requests->folium!=0.15.0,>=0.13->streamlit-folium) (2024.8.30)\n",
      "Requirement already satisfied: markdown-it-py>=2.2.0 in c:\\users\\nparra\\appdata\\local\\miniconda3\\envs\\geopython\\lib\\site-packages (from rich<14,>=10.14.0->streamlit>=1.13.0->streamlit-folium) (3.0.0)\n",
      "Requirement already satisfied: pygments<3.0.0,>=2.13.0 in c:\\users\\nparra\\appdata\\local\\miniconda3\\envs\\geopython\\lib\\site-packages (from rich<14,>=10.14.0->streamlit>=1.13.0->streamlit-folium) (2.18.0)\n",
      "Requirement already satisfied: smmap<6,>=3.0.1 in c:\\users\\nparra\\appdata\\local\\miniconda3\\envs\\geopython\\lib\\site-packages (from gitdb<5,>=4.0.1->gitpython!=3.1.19,<4,>=3.0.7->streamlit>=1.13.0->streamlit-folium) (5.0.0)\n",
      "Requirement already satisfied: attrs>=17.4.0 in c:\\users\\nparra\\appdata\\local\\miniconda3\\envs\\geopython\\lib\\site-packages (from jsonschema>=3.0->altair<6,>=4.0->streamlit>=1.13.0->streamlit-folium) (24.2.0)\n",
      "Requirement already satisfied: pyrsistent!=0.17.0,!=0.17.1,!=0.17.2,>=0.14.0 in c:\\users\\nparra\\appdata\\local\\miniconda3\\envs\\geopython\\lib\\site-packages (from jsonschema>=3.0->altair<6,>=4.0->streamlit>=1.13.0->streamlit-folium) (0.20.0)\n",
      "Requirement already satisfied: mdurl~=0.1 in c:\\users\\nparra\\appdata\\local\\miniconda3\\envs\\geopython\\lib\\site-packages (from markdown-it-py>=2.2.0->rich<14,>=10.14.0->streamlit>=1.13.0->streamlit-folium) (0.1.2)\n",
      "Requirement already satisfied: six>=1.5 in c:\\users\\nparra\\appdata\\local\\miniconda3\\envs\\geopython\\lib\\site-packages (from python-dateutil>=2.8.2->pandas<3,>=1.4.0->streamlit>=1.13.0->streamlit-folium) (1.16.0)\n",
      "Note: you may need to restart the kernel to use updated packages.\n"
     ]
    }
   ],
   "source": [
    "pip install streamlit-folium"
   ]
  },
  {
   "cell_type": "code",
   "execution_count": 36,
   "metadata": {},
   "outputs": [
    {
     "name": "stdout",
     "output_type": "stream",
     "text": [
      "Name: streamlit_foliumNote: you may need to restart the kernel to use updated packages.\n",
      "\n",
      "Version: 0.23.2\n",
      "Summary: Render Folium objects in Streamlit\n",
      "Home-page: https://github.com/randyzwitch/streamlit-folium\n",
      "Author: Randy Zwitch\n",
      "Author-email: rzwitch@gmail.com\n",
      "License: \n",
      "Location: c:\\Users\\nparra\\AppData\\Local\\miniconda3\\envs\\geopython\\Lib\\site-packages\n",
      "Requires: branca, folium, jinja2, streamlit\n",
      "Required-by: \n"
     ]
    }
   ],
   "source": [
    "pip show streamlit-folium"
   ]
  },
  {
   "cell_type": "code",
   "execution_count": 30,
   "metadata": {},
   "outputs": [
    {
     "name": "stdout",
     "output_type": "stream",
     "text": [
      "streamlit_folium importado correctamente\n"
     ]
    }
   ],
   "source": [
    "from streamlit_folium import st_folium\n",
    "print(\"streamlit_folium importado correctamente\")"
   ]
  },
  {
   "cell_type": "code",
   "execution_count": null,
   "metadata": {},
   "outputs": [],
   "source": [
    "csv_data = pd.read_csv(\n",
    "    r\"C:\\Users\\nparra\\ProyectoFinal\\Aras - Proyecto Final\\Ara Macao_Ara Ambiguus.csv\",\n",
    "    delimiter=\"\\t\",\n",
    "    engine=\"python\"\n",
    ")"
   ]
  },
  {
   "cell_type": "code",
   "execution_count": 32,
   "metadata": {},
   "outputs": [
    {
     "name": "stdout",
     "output_type": "stream",
     "text": [
      "Línea 1: Nombre\tLocalidad\tProvincia \tCuenta Individual\tLatitud\tLongitud\tFecha\tday\tmonth\tyear\n",
      "Línea 2: Ara macao\tLaguna Lagarto Lodge\tAlajuela\t10\t10.68515\t-84.18112\t2011-11-24\t24\t11\t2011\n",
      "Línea 3: Ara macao\tLaguna Lagarto Lodge\tAlajuela\t8\t10.68515\t-84.18112\t2013-06-18\t18\t6\t2013\n",
      "Línea 4: Ara macao\tLaguna Lagarto Lodge\tAlajuela\t4\t10.68515\t-84.18112\t2013-12-28\t28\t12\t2013\n",
      "Línea 5: Ara macao\tLaguna Lagarto Lodge, Boca Tapada\tAlajuela\t10\t10.77547\t-84.19338\t2013-05-18\t18\t5\t2013\n",
      "Línea 6: Ara macao\tMaquenque Eco-Lodge\tAlajuela\t\t10.686364\t-84.20616\t2013-02-22\t22\t2\t2013\n",
      "Línea 7: Ara macao\tMaquenque Eco-Lodge\tAlajuela\t1\t10.686364\t-84.20616\t2013-02-24\t24\t2\t2013\n",
      "Línea 8: Ara macao\tMaquenque Eco-Lodge\tAlajuela\t\t10.686364\t-84.20616\t2013-02-22\t22\t2\t2013\n",
      "Línea 9: Ara macao\tMaquenque Eco-Lodge\tAlajuela\t2\t10.686364\t-84.20616\t2012-03-09\t9\t3\t2012\n",
      "Línea 10: Ara macao\tMaquenque Eco-Lodge\tAlajuela\t2\t10.686364\t-84.20616\t2012-03-10\t10\t3\t2012\n",
      "Línea 11: Ara macao\tMaquenque Eco-Lodge\tAlajuela\t1\t10.686364\t-84.20616\t2013-02-24\t24\t2\t2013\n"
     ]
    }
   ],
   "source": [
    "with open(r\"C:\\Users\\nparra\\ProyectoFinal\\Aras - Proyecto Final\\Ara Macao_Ara Ambiguus.csv\", \"r\", encoding=\"utf-8\") as file:\n",
    "    for i, line in enumerate(file):\n",
    "        print(f\"Línea {i+1}: {line.strip()}\")\n",
    "        if i >= 10:  # Muestra solo las primeras 10 líneas\n",
    "            break"
   ]
  },
  {
   "cell_type": "code",
   "execution_count": 39,
   "metadata": {},
   "outputs": [
    {
     "name": "stderr",
     "output_type": "stream",
     "text": [
      "2024-12-03 17:19:17.085 No runtime found, using MemoryCacheStorageManager\n",
      "2024-12-03 17:19:17.088 Thread 'MainThread': missing ScriptRunContext! This warning can be ignored when running in bare mode.\n",
      "2024-12-03 17:19:17.088 Thread 'MainThread': missing ScriptRunContext! This warning can be ignored when running in bare mode.\n",
      "2024-12-03 17:19:17.089 Thread 'MainThread': missing ScriptRunContext! This warning can be ignored when running in bare mode.\n",
      "2024-12-03 17:19:17.127 Thread 'MainThread': missing ScriptRunContext! This warning can be ignored when running in bare mode.\n",
      "2024-12-03 17:19:17.128 Thread 'MainThread': missing ScriptRunContext! This warning can be ignored when running in bare mode.\n",
      "2024-12-03 17:19:17.131 Thread 'MainThread': missing ScriptRunContext! This warning can be ignored when running in bare mode.\n",
      "2024-12-03 17:19:17.132 Thread 'MainThread': missing ScriptRunContext! This warning can be ignored when running in bare mode.\n",
      "2024-12-03 17:19:17.132 Thread 'MainThread': missing ScriptRunContext! This warning can be ignored when running in bare mode.\n",
      "2024-12-03 17:19:17.133 Thread 'MainThread': missing ScriptRunContext! This warning can be ignored when running in bare mode.\n",
      "2024-12-03 17:19:17.134 Thread 'MainThread': missing ScriptRunContext! This warning can be ignored when running in bare mode.\n",
      "2024-12-03 17:19:17.134 Thread 'MainThread': missing ScriptRunContext! This warning can be ignored when running in bare mode.\n",
      "2024-12-03 17:19:17.136 Thread 'MainThread': missing ScriptRunContext! This warning can be ignored when running in bare mode.\n",
      "2024-12-03 17:19:17.136 Thread 'MainThread': missing ScriptRunContext! This warning can be ignored when running in bare mode.\n",
      "2024-12-03 17:19:17.141 Thread 'MainThread': missing ScriptRunContext! This warning can be ignored when running in bare mode.\n",
      "2024-12-03 17:19:17.142 Thread 'MainThread': missing ScriptRunContext! This warning can be ignored when running in bare mode.\n",
      "2024-12-03 17:19:17.144 Thread 'MainThread': missing ScriptRunContext! This warning can be ignored when running in bare mode.\n",
      "2024-12-03 17:19:17.146 Thread 'MainThread': missing ScriptRunContext! This warning can be ignored when running in bare mode.\n",
      "2024-12-03 17:19:17.148 Thread 'MainThread': missing ScriptRunContext! This warning can be ignored when running in bare mode.\n",
      "2024-12-03 17:19:17.149 Thread 'MainThread': missing ScriptRunContext! This warning can be ignored when running in bare mode.\n",
      "2024-12-03 17:19:17.164 Thread 'MainThread': missing ScriptRunContext! This warning can be ignored when running in bare mode.\n",
      "2024-12-03 17:19:17.166 Thread 'MainThread': missing ScriptRunContext! This warning can be ignored when running in bare mode.\n",
      "2024-12-03 17:19:17.213 Thread 'MainThread': missing ScriptRunContext! This warning can be ignored when running in bare mode.\n",
      "2024-12-03 17:19:17.213 Thread 'MainThread': missing ScriptRunContext! This warning can be ignored when running in bare mode.\n",
      "2024-12-03 17:19:17.213 Thread 'MainThread': missing ScriptRunContext! This warning can be ignored when running in bare mode.\n",
      "2024-12-03 17:19:17.213 Thread 'MainThread': missing ScriptRunContext! This warning can be ignored when running in bare mode.\n",
      "2024-12-03 17:19:17.746 Thread 'MainThread': missing ScriptRunContext! This warning can be ignored when running in bare mode.\n",
      "2024-12-03 17:19:17.753 Thread 'MainThread': missing ScriptRunContext! This warning can be ignored when running in bare mode.\n",
      "2024-12-03 17:19:17.760 Thread 'MainThread': missing ScriptRunContext! This warning can be ignored when running in bare mode.\n",
      "2024-12-03 17:19:17.761 Thread 'MainThread': missing ScriptRunContext! This warning can be ignored when running in bare mode.\n",
      "2024-12-03 17:19:17.763 Thread 'MainThread': missing ScriptRunContext! This warning can be ignored when running in bare mode.\n",
      "2024-12-03 17:19:17.763 Thread 'MainThread': missing ScriptRunContext! This warning can be ignored when running in bare mode.\n",
      "2024-12-03 17:19:17.763 Thread 'MainThread': missing ScriptRunContext! This warning can be ignored when running in bare mode.\n",
      "2024-12-03 17:19:17.763 Thread 'MainThread': missing ScriptRunContext! This warning can be ignored when running in bare mode.\n",
      "2024-12-03 17:19:17.768 Thread 'MainThread': missing ScriptRunContext! This warning can be ignored when running in bare mode.\n",
      "2024-12-03 17:19:17.769 Thread 'MainThread': missing ScriptRunContext! This warning can be ignored when running in bare mode.\n"
     ]
    }
   ],
   "source": [
    "import streamlit as st\n",
    "import pandas as pd\n",
    "import geopandas as gpd\n",
    "import plotly.express as px\n",
    "import folium\n",
    "from streamlit_folium import st_folium\n",
    "\n",
    "# Cargar datos\n",
    "@st.cache_data\n",
    "def load_data():\n",
    "    csv_path = r\"C:\\Users\\nparra\\ProyectoFinal\\Aras - Proyecto Final\\Ara Macao_Ara Ambiguus.csv\"\n",
    "    geojson_path = r\"C:\\Users\\nparra\\ProyectoFinal\\Aras - Proyecto Final\\provinciasCR.geojson\"\n",
    "    csv_data = pd.read_csv(csv_path, delimiter=\"\\t\")  # Cambia el delimitador si es necesario\n",
    "    geojson_data = gpd.read_file(geojson_path)\n",
    "    return csv_data, geojson_data\n",
    "\n",
    "csv_data, geojson_data = load_data()\n",
    "\n",
    "# Título de la aplicación\n",
    "st.title(\"Proyecto Final: Visualización Interactiva con Streamlit\")\n",
    "\n",
    "# Lista de selección\n",
    "field_to_filter = st.selectbox(\"Selecciona el campo para filtrar:\", csv_data.columns)\n",
    "unique_values = csv_data[field_to_filter].unique()\n",
    "selected_value = st.selectbox(f\"Selecciona un valor de '{field_to_filter}':\", unique_values)\n",
    "\n",
    "# Filtrar datos\n",
    "filtered_data = csv_data[csv_data[field_to_filter] == selected_value]\n",
    "\n",
    "# Tabla de datos\n",
    "st.subheader(\"Tabla de Datos Filtrados\")\n",
    "st.write(filtered_data)\n",
    "\n",
    "# Gráfico interactivo\n",
    "st.subheader(\"Gráfico Interactivo\")\n",
    "chart = px.bar(filtered_data, x=filtered_data.columns[0], y=filtered_data.columns[1])  # Ajusta las columnas\n",
    "st.plotly_chart(chart)\n",
    "\n",
    "# Mapa interactivo\n",
    "st.subheader(\"Mapa Interactivo\")\n",
    "\n",
    "try:\n",
    "    # Combinar datos filtrados con el GeoJSON\n",
    "    # Asegúrate de que los nombres de las columnas coincidan\n",
    "    map_data = geojson_data.merge(filtered_data, how=\"inner\", left_on=\"nombre_provincia\", right_on=\"Provincia\")\n",
    "    \n",
    "    # Crear el mapa\n",
    "    m = folium.Map(location=[9.8, -83.8], zoom_start=8)  # Ajusta la ubicación inicial según corresponda\n",
    "    for _, row in map_data.iterrows():\n",
    "        folium.Marker(\n",
    "            location=[row['geometry'].centroid.y, row['geometry'].centroid.x],\n",
    "            popup=row['nombre_provincia']  # O ajusta según las columnas disponibles\n",
    "        ).add_to(m)\n",
    "    \n",
    "    # Mostrar el mapa en Streamlit\n",
    "    st_folium(m, width=700, height=500)\n",
    "\n",
    "except Exception as e:\n",
    "    st.write(f\"Error al generar el mapa: {e}\")\n",
    "\n"
   ]
  }
 ],
 "metadata": {
  "kernelspec": {
   "display_name": "geopython",
   "language": "python",
   "name": "python3"
  },
  "language_info": {
   "codemirror_mode": {
    "name": "ipython",
    "version": 3
   },
   "file_extension": ".py",
   "mimetype": "text/x-python",
   "name": "python",
   "nbconvert_exporter": "python",
   "pygments_lexer": "ipython3",
   "version": "3.11.10"
  }
 },
 "nbformat": 4,
 "nbformat_minor": 2
}
